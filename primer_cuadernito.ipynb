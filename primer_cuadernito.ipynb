{
 "cells": [
  {
   "cell_type": "code",
   "execution_count": 1,
   "id": "6444a50f",
   "metadata": {
    "scrolled": false
   },
   "outputs": [
    {
     "name": "stdout",
     "output_type": "stream",
     "text": [
      "se viene 1\n",
      "se viene 2\n",
      "se viene 3\n",
      "se viene 4\n",
      "se viene 5\n",
      "se viene 6\n",
      "se viene 7\n",
      "se viene 8\n",
      "se viene 9\n",
      "se viene 10\n",
      "se viene 11\n",
      "se viene 12\n",
      "se viene 13\n",
      "se viene 14\n",
      "se viene 15\n",
      "se viene 16\n",
      "se viene 17\n",
      "se viene 18\n",
      "se viene 19\n"
     ]
    }
   ],
   "source": [
    "#cómo usar for\n",
    "\n",
    "for i in range(1, 20):\n",
    "    print(\"se viene \"+str(i))"
   ]
  },
  {
   "cell_type": "code",
   "execution_count": 3,
   "id": "b3cec428",
   "metadata": {},
   "outputs": [
    {
     "name": "stdout",
     "output_type": "stream",
     "text": [
      "no se imprime\n"
     ]
    }
   ],
   "source": [
    "# como usar el if\n",
    "planta=\"arbol\"\n",
    "if planta==\"planta\":\n",
    "    print(\"se viene\")\n",
    "print(\"no se imprime\")"
   ]
  },
  {
   "cell_type": "code",
   "execution_count": null,
   "id": "fe74d602",
   "metadata": {},
   "outputs": [],
   "source": [
    "# no poner de no he visto fundamentos de programacion\n",
    "\n",
    "print(\"valedores\")"
   ]
  },
  {
   "cell_type": "code",
   "execution_count": 6,
   "id": "93b73064",
   "metadata": {},
   "outputs": [
    {
     "name": "stdout",
     "output_type": "stream",
     "text": [
      "hola?jajajajajajajjajajaja\n"
     ]
    },
    {
     "data": {
      "text/plain": [
       "'jajajajajajajjajajaja'"
      ]
     },
     "execution_count": 6,
     "metadata": {},
     "output_type": "execute_result"
    }
   ],
   "source": [
    "input(\"hola?\")"
   ]
  },
  {
   "cell_type": "markdown",
   "id": "ca7c8e62",
   "metadata": {},
   "source": [
    "# Titulo\n",
    "## titulo\n",
    "### titul\n"
   ]
  },
  {
   "cell_type": "code",
   "execution_count": 10,
   "id": "ab2db23f",
   "metadata": {},
   "outputs": [],
   "source": [
    "while False:\n",
    "    print(\"a\")\n",
    "    "
   ]
  },
  {
   "cell_type": "code",
   "execution_count": null,
   "id": "48337f8b",
   "metadata": {},
   "outputs": [],
   "source": []
  }
 ],
 "metadata": {
  "kernelspec": {
   "display_name": "Python 3 (ipykernel)",
   "language": "python",
   "name": "python3"
  },
  "language_info": {
   "codemirror_mode": {
    "name": "ipython",
    "version": 3
   },
   "file_extension": ".py",
   "mimetype": "text/x-python",
   "name": "python",
   "nbconvert_exporter": "python",
   "pygments_lexer": "ipython3",
   "version": "3.8.10"
  }
 },
 "nbformat": 4,
 "nbformat_minor": 5
}
